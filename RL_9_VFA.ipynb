{
  "nbformat": 4,
  "nbformat_minor": 0,
  "metadata": {
    "colab": {
      "provenance": []
    },
    "kernelspec": {
      "name": "python3",
      "display_name": "Python 3"
    },
    "language_info": {
      "name": "python"
    }
  },
  "cells": [
    {
      "cell_type": "markdown",
      "source": [
        "# R054 - Archisha Sinha\n",
        "## Domain: Reinforcement Learning\n",
        "## Topic: Value Function Approximation"
      ],
      "metadata": {
        "id": "WDI5aZvc9qEw"
      }
    },
    {
      "cell_type": "markdown",
      "source": [
        "## **Value Function Approximation**\n",
        "- Value function approximation is a fundamental concept in reinforcement learning (RL) that enables RL algorithms to scale to large or continuous state and action spaces.\n",
        "- When it is infeasible to compute or store the exact value of each state (or state-action pair) in large environments, value function approximation provides a way to estimate values using parametric or non-parametric functions.\n",
        "- State-Value Function (V): Estimates the expected return (cumulative future reward) when starting in state s and following a policy π\n"
      ],
      "metadata": {
        "id": "mqkXEdRtm6Xr"
      }
    },
    {
      "cell_type": "markdown",
      "source": [
        "![image.png](data:image/png;base64,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)"
      ],
      "metadata": {
        "id": "SpyjOT5RnD26"
      }
    },
    {
      "cell_type": "markdown",
      "source": [
        "- Action-Value Function (Q): Estimates the expected return starting from state s, taking action a, and thereafter following policy π\n",
        "\n",
        "![image.png](data:image/png;base64,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)"
      ],
      "metadata": {
        "id": "3TN_7fTNnIlq"
      }
    },
    {
      "cell_type": "code",
      "source": [
        "import numpy as np\n",
        "import random"
      ],
      "metadata": {
        "id": "5RlvFep3cej0"
      },
      "execution_count": 1,
      "outputs": []
    },
    {
      "cell_type": "code",
      "source": [
        "# Environment settings\n",
        "num_features = 1  # Single feature for simplicity\n",
        "num_actions = 2   # Actions: 0 = Left, 1 = Right\n",
        "goal_state = 10   # Example goal state\n",
        "start_state = 0   # Starting state\n",
        "feature_scale = 0.1  # Scaling feature values"
      ],
      "metadata": {
        "id": "fEpDUJ3amqP8"
      },
      "execution_count": 2,
      "outputs": []
    },
    {
      "cell_type": "code",
      "source": [
        "# Generate feature vector for each state\n",
        "def get_features(state):\n",
        "    return np.array([state * feature_scale])"
      ],
      "metadata": {
        "id": "vdTDmKBKmsK6"
      },
      "execution_count": 3,
      "outputs": []
    },
    {
      "cell_type": "code",
      "source": [
        "# Reward function\n",
        "def get_reward(state):\n",
        "    return 10 if state == goal_state else -1  # +10 at goal, -1 elsewhere"
      ],
      "metadata": {
        "id": "POZZJxg7mtnO"
      },
      "execution_count": 4,
      "outputs": []
    },
    {
      "cell_type": "code",
      "source": [
        "# Linear Function Approximation with Q-Learning\n",
        "# Q(s, a) = w.T * f(s, a) where w is the weight vector and f(s, a) is the feature vector for state-action pair"
      ],
      "metadata": {
        "id": "5OHH57MlmvJY"
      },
      "execution_count": 5,
      "outputs": []
    },
    {
      "cell_type": "code",
      "source": [
        "# Hyperparameters\n",
        "alpha = 0.01       # Learning rate\n",
        "gamma = 0.9        # Discount factor\n",
        "epsilon = 0.1      # Exploration rate\n",
        "episodes = 500     # Number of episodes"
      ],
      "metadata": {
        "id": "wvbblA3BmxM1"
      },
      "execution_count": 6,
      "outputs": []
    },
    {
      "cell_type": "code",
      "source": [
        "# Initialize weights randomly for both actions\n",
        "weights = np.random.rand(num_features, num_actions)"
      ],
      "metadata": {
        "id": "jAx2ccnPmzXR"
      },
      "execution_count": 7,
      "outputs": []
    },
    {
      "cell_type": "code",
      "source": [
        "# Training loop\n",
        "for episode in range(episodes):\n",
        "    state = start_state\n",
        "    while state != goal_state:\n",
        "        # Feature vector for the current state\n",
        "        features = get_features(state)\n",
        "\n",
        "        # ε-greedy action selection\n",
        "        if random.uniform(0, 1) < epsilon:\n",
        "            action = random.choice([0, 1])  # Explore\n",
        "        else:\n",
        "            q_values = np.dot(features, weights)  # Q-values for both actions\n",
        "            action = np.argmax(q_values)  # Choose action with max Q-value\n",
        "\n",
        "        # Simulate environment step\n",
        "        next_state = state + 1 if action == 1 else state - 1  # Move right or left\n",
        "        next_state = max(0, min(next_state, goal_state))  # Keep within bounds\n",
        "        reward = get_reward(next_state)\n",
        "\n",
        "        # Compute next Q-values and target\n",
        "        next_features = get_features(next_state)\n",
        "        next_q_values = np.dot(next_features, weights)\n",
        "        target = reward + gamma * np.max(next_q_values) if next_state != goal_state else reward\n",
        "\n",
        "        # Update weights using gradient descent\n",
        "        td_error = target - np.dot(features, weights[:, action])  # Temporal Difference error\n",
        "        weights[:, action] += alpha * td_error * features  # Update weights for the taken action\n",
        "\n",
        "        state = next_state  # Move to the next state"
      ],
      "metadata": {
        "id": "NjRRsdvwm0yG"
      },
      "execution_count": 8,
      "outputs": []
    },
    {
      "cell_type": "code",
      "source": [
        "# Display learned weights\n",
        "print(\"Learned weights for Q-function approximation:\")\n",
        "print(weights)"
      ],
      "metadata": {
        "colab": {
          "base_uri": "https://localhost:8080/"
        },
        "id": "0Fqs-mthm24d",
        "outputId": "8e17b1fd-2bf5-47ec-bac1-5e8918329500"
      },
      "execution_count": 9,
      "outputs": [
        {
          "output_type": "stream",
          "name": "stdout",
          "text": [
            "Learned weights for Q-function approximation:\n",
            "[[1.38173863 7.44043765]]\n"
          ]
        }
      ]
    },
    {
      "cell_type": "code",
      "source": [],
      "metadata": {
        "id": "ql4dIe1am4sg"
      },
      "execution_count": null,
      "outputs": []
    }
  ]
}